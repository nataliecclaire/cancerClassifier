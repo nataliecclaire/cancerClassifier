{
  "cells": [
    {
      "cell_type": "markdown",
      "metadata": {
        "id": "oYH1HrGmkkYR"
      },
      "source": [
        "# **Cancer Classification Model**\n",
        "\n",
        "Welcome to our model! This is a logistic regression model that predicts a patient's cancer type (label) based on their genetic makeup. Let's begin!"
      ]
    },
    {
      "cell_type": "markdown",
      "metadata": {
        "id": "StCs_dx0pmMT"
      },
      "source": [
        "# **DATA PREPROCESSING**"
      ]
    },
    {
      "cell_type": "markdown",
      "metadata": {
        "id": "LBqaLkjekxP1"
      },
      "source": [
        "Firstly, we'll import the necessary libraries as well as our data."
      ]
    },
    {
      "cell_type": "code",
      "execution_count": null,
      "metadata": {
        "colab": {
          "base_uri": "https://localhost:8080/"
        },
        "id": "9rsFmP_FQxQh",
        "outputId": "d8f3976b-721d-4881-89d8-2c0550e38475"
      },
      "outputs": [
        {
          "output_type": "stream",
          "name": "stdout",
          "text": [
            "Mounted at /content/drive\n"
          ]
        }
      ],
      "source": [
        "#importing libraries\n",
        "import pandas as pd\n",
        "import matplotlib\n",
        "import numpy as np\n",
        "import seaborn as sns\n",
        "%matplotlib notebook\n",
        "import matplotlib.pyplot as plt\n",
        "import os\n",
        "from sklearn.neighbors import KNeighborsClassifier\n",
        "from sklearn.model_selection import train_test_split\n",
        "from sklearn.metrics import accuracy_score\n",
        "\n",
        "#importing the data uploaded to the colab files\n",
        "from google.colab import drive\n",
        "drive.mount('/content/drive')\n",
        "file_path = '/content/drive/MyDrive/data.csv'\n",
        "df = pd.read_csv(file_path)\n",
        "file_path = '/content/drive/MyDrive/labels.csv'\n",
        "df_labels = pd.read_csv(file_path)\n",
        "\n",
        "#our data came in two separate datasets, but we want to combine them for now.\n",
        "df = pd.concat([df, df_labels], axis = 1)"
      ]
    },
    {
      "cell_type": "markdown",
      "metadata": {
        "id": "elhYK7W_mXeY"
      },
      "source": [
        "Let's take a first look at our data! Based on what's below, it looks like we have 20,533 genetic expressions for 801 patients! We expect that there might be missing data in all of these, as the precision of genetic data collection can only be so precise with so many data points."
      ]
    },
    {
      "cell_type": "code",
      "execution_count": null,
      "metadata": {
        "colab": {
          "base_uri": "https://localhost:8080/"
        },
        "id": "VDf5Fz-aqqd7",
        "outputId": "270bb10c-d2a4-4483-b6a5-1db5c2a403e6"
      },
      "outputs": [
        {
          "output_type": "execute_result",
          "data": {
            "text/plain": [
              "(801, 20534)"
            ]
          },
          "metadata": {},
          "execution_count": 2
        }
      ],
      "source": [
        "df.shape"
      ]
    },
    {
      "cell_type": "code",
      "execution_count": null,
      "metadata": {
        "colab": {
          "base_uri": "https://localhost:8080/",
          "height": 270
        },
        "id": "_zoClcF0lxIm",
        "outputId": "b5089617-af02-49e3-bcb1-5441d8a916b4"
      },
      "outputs": [
        {
          "output_type": "execute_result",
          "data": {
            "text/plain": [
              "   Unnamed: 0  gene_0    gene_1    gene_2    gene_3     gene_4  gene_5  \\\n",
              "0    sample_0     0.0  2.017209  3.265527  5.478487  10.431999     0.0   \n",
              "1    sample_1     0.0  0.592732  1.588421  7.586157   9.623011     0.0   \n",
              "2    sample_2     0.0  3.511759  4.327199  6.881787   9.870730     0.0   \n",
              "3    sample_3     0.0  3.663618  4.507649  6.659068  10.196184     0.0   \n",
              "4    sample_4     0.0  2.655741  2.821547  6.539454   9.738265     0.0   \n",
              "\n",
              "     gene_6    gene_7  gene_8  ...  gene_20523  gene_20524  gene_20525  \\\n",
              "0  7.175175  0.591871     0.0  ...    9.723516    7.220030    9.119813   \n",
              "1  6.816049  0.000000     0.0  ...    9.740931    6.256586    8.381612   \n",
              "2  6.972130  0.452595     0.0  ...   10.908640    5.401607    9.911597   \n",
              "3  7.843375  0.434882     0.0  ...   10.141520    8.942805    9.601208   \n",
              "4  6.566967  0.360982     0.0  ...   10.373790    7.181162    9.846910   \n",
              "\n",
              "   gene_20526  gene_20527  gene_20528  gene_20529  gene_20530  Unnamed: 0  \\\n",
              "0   12.003135    9.650743    8.921326    5.286759         0.0    sample_0   \n",
              "1   12.674552   10.517059    9.397854    2.094168         0.0    sample_1   \n",
              "2    9.045255    9.788359   10.090470    1.683023         0.0    sample_2   \n",
              "3   11.392682    9.694814    9.684365    3.292001         0.0    sample_3   \n",
              "4   11.922439    9.217749    9.461191    5.110372         0.0    sample_4   \n",
              "\n",
              "   Class  \n",
              "0   PRAD  \n",
              "1   LUAD  \n",
              "2   PRAD  \n",
              "3   PRAD  \n",
              "4   BRCA  \n",
              "\n",
              "[5 rows x 20534 columns]"
            ],
            "text/html": [
              "\n",
              "  <div id=\"df-24642273-b1ae-49b0-95bc-d25ba74148b2\" class=\"colab-df-container\">\n",
              "    <div>\n",
              "<style scoped>\n",
              "    .dataframe tbody tr th:only-of-type {\n",
              "        vertical-align: middle;\n",
              "    }\n",
              "\n",
              "    .dataframe tbody tr th {\n",
              "        vertical-align: top;\n",
              "    }\n",
              "\n",
              "    .dataframe thead th {\n",
              "        text-align: right;\n",
              "    }\n",
              "</style>\n",
              "<table border=\"1\" class=\"dataframe\">\n",
              "  <thead>\n",
              "    <tr style=\"text-align: right;\">\n",
              "      <th></th>\n",
              "      <th>Unnamed: 0</th>\n",
              "      <th>gene_0</th>\n",
              "      <th>gene_1</th>\n",
              "      <th>gene_2</th>\n",
              "      <th>gene_3</th>\n",
              "      <th>gene_4</th>\n",
              "      <th>gene_5</th>\n",
              "      <th>gene_6</th>\n",
              "      <th>gene_7</th>\n",
              "      <th>gene_8</th>\n",
              "      <th>...</th>\n",
              "      <th>gene_20523</th>\n",
              "      <th>gene_20524</th>\n",
              "      <th>gene_20525</th>\n",
              "      <th>gene_20526</th>\n",
              "      <th>gene_20527</th>\n",
              "      <th>gene_20528</th>\n",
              "      <th>gene_20529</th>\n",
              "      <th>gene_20530</th>\n",
              "      <th>Unnamed: 0</th>\n",
              "      <th>Class</th>\n",
              "    </tr>\n",
              "  </thead>\n",
              "  <tbody>\n",
              "    <tr>\n",
              "      <th>0</th>\n",
              "      <td>sample_0</td>\n",
              "      <td>0.0</td>\n",
              "      <td>2.017209</td>\n",
              "      <td>3.265527</td>\n",
              "      <td>5.478487</td>\n",
              "      <td>10.431999</td>\n",
              "      <td>0.0</td>\n",
              "      <td>7.175175</td>\n",
              "      <td>0.591871</td>\n",
              "      <td>0.0</td>\n",
              "      <td>...</td>\n",
              "      <td>9.723516</td>\n",
              "      <td>7.220030</td>\n",
              "      <td>9.119813</td>\n",
              "      <td>12.003135</td>\n",
              "      <td>9.650743</td>\n",
              "      <td>8.921326</td>\n",
              "      <td>5.286759</td>\n",
              "      <td>0.0</td>\n",
              "      <td>sample_0</td>\n",
              "      <td>PRAD</td>\n",
              "    </tr>\n",
              "    <tr>\n",
              "      <th>1</th>\n",
              "      <td>sample_1</td>\n",
              "      <td>0.0</td>\n",
              "      <td>0.592732</td>\n",
              "      <td>1.588421</td>\n",
              "      <td>7.586157</td>\n",
              "      <td>9.623011</td>\n",
              "      <td>0.0</td>\n",
              "      <td>6.816049</td>\n",
              "      <td>0.000000</td>\n",
              "      <td>0.0</td>\n",
              "      <td>...</td>\n",
              "      <td>9.740931</td>\n",
              "      <td>6.256586</td>\n",
              "      <td>8.381612</td>\n",
              "      <td>12.674552</td>\n",
              "      <td>10.517059</td>\n",
              "      <td>9.397854</td>\n",
              "      <td>2.094168</td>\n",
              "      <td>0.0</td>\n",
              "      <td>sample_1</td>\n",
              "      <td>LUAD</td>\n",
              "    </tr>\n",
              "    <tr>\n",
              "      <th>2</th>\n",
              "      <td>sample_2</td>\n",
              "      <td>0.0</td>\n",
              "      <td>3.511759</td>\n",
              "      <td>4.327199</td>\n",
              "      <td>6.881787</td>\n",
              "      <td>9.870730</td>\n",
              "      <td>0.0</td>\n",
              "      <td>6.972130</td>\n",
              "      <td>0.452595</td>\n",
              "      <td>0.0</td>\n",
              "      <td>...</td>\n",
              "      <td>10.908640</td>\n",
              "      <td>5.401607</td>\n",
              "      <td>9.911597</td>\n",
              "      <td>9.045255</td>\n",
              "      <td>9.788359</td>\n",
              "      <td>10.090470</td>\n",
              "      <td>1.683023</td>\n",
              "      <td>0.0</td>\n",
              "      <td>sample_2</td>\n",
              "      <td>PRAD</td>\n",
              "    </tr>\n",
              "    <tr>\n",
              "      <th>3</th>\n",
              "      <td>sample_3</td>\n",
              "      <td>0.0</td>\n",
              "      <td>3.663618</td>\n",
              "      <td>4.507649</td>\n",
              "      <td>6.659068</td>\n",
              "      <td>10.196184</td>\n",
              "      <td>0.0</td>\n",
              "      <td>7.843375</td>\n",
              "      <td>0.434882</td>\n",
              "      <td>0.0</td>\n",
              "      <td>...</td>\n",
              "      <td>10.141520</td>\n",
              "      <td>8.942805</td>\n",
              "      <td>9.601208</td>\n",
              "      <td>11.392682</td>\n",
              "      <td>9.694814</td>\n",
              "      <td>9.684365</td>\n",
              "      <td>3.292001</td>\n",
              "      <td>0.0</td>\n",
              "      <td>sample_3</td>\n",
              "      <td>PRAD</td>\n",
              "    </tr>\n",
              "    <tr>\n",
              "      <th>4</th>\n",
              "      <td>sample_4</td>\n",
              "      <td>0.0</td>\n",
              "      <td>2.655741</td>\n",
              "      <td>2.821547</td>\n",
              "      <td>6.539454</td>\n",
              "      <td>9.738265</td>\n",
              "      <td>0.0</td>\n",
              "      <td>6.566967</td>\n",
              "      <td>0.360982</td>\n",
              "      <td>0.0</td>\n",
              "      <td>...</td>\n",
              "      <td>10.373790</td>\n",
              "      <td>7.181162</td>\n",
              "      <td>9.846910</td>\n",
              "      <td>11.922439</td>\n",
              "      <td>9.217749</td>\n",
              "      <td>9.461191</td>\n",
              "      <td>5.110372</td>\n",
              "      <td>0.0</td>\n",
              "      <td>sample_4</td>\n",
              "      <td>BRCA</td>\n",
              "    </tr>\n",
              "  </tbody>\n",
              "</table>\n",
              "<p>5 rows × 20534 columns</p>\n",
              "</div>\n",
              "    <div class=\"colab-df-buttons\">\n",
              "\n",
              "  <div class=\"colab-df-container\">\n",
              "    <button class=\"colab-df-convert\" onclick=\"convertToInteractive('df-24642273-b1ae-49b0-95bc-d25ba74148b2')\"\n",
              "            title=\"Convert this dataframe to an interactive table.\"\n",
              "            style=\"display:none;\">\n",
              "\n",
              "  <svg xmlns=\"http://www.w3.org/2000/svg\" height=\"24px\" viewBox=\"0 -960 960 960\">\n",
              "    <path d=\"M120-120v-720h720v720H120Zm60-500h600v-160H180v160Zm220 220h160v-160H400v160Zm0 220h160v-160H400v160ZM180-400h160v-160H180v160Zm440 0h160v-160H620v160ZM180-180h160v-160H180v160Zm440 0h160v-160H620v160Z\"/>\n",
              "  </svg>\n",
              "    </button>\n",
              "\n",
              "  <style>\n",
              "    .colab-df-container {\n",
              "      display:flex;\n",
              "      gap: 12px;\n",
              "    }\n",
              "\n",
              "    .colab-df-convert {\n",
              "      background-color: #E8F0FE;\n",
              "      border: none;\n",
              "      border-radius: 50%;\n",
              "      cursor: pointer;\n",
              "      display: none;\n",
              "      fill: #1967D2;\n",
              "      height: 32px;\n",
              "      padding: 0 0 0 0;\n",
              "      width: 32px;\n",
              "    }\n",
              "\n",
              "    .colab-df-convert:hover {\n",
              "      background-color: #E2EBFA;\n",
              "      box-shadow: 0px 1px 2px rgba(60, 64, 67, 0.3), 0px 1px 3px 1px rgba(60, 64, 67, 0.15);\n",
              "      fill: #174EA6;\n",
              "    }\n",
              "\n",
              "    .colab-df-buttons div {\n",
              "      margin-bottom: 4px;\n",
              "    }\n",
              "\n",
              "    [theme=dark] .colab-df-convert {\n",
              "      background-color: #3B4455;\n",
              "      fill: #D2E3FC;\n",
              "    }\n",
              "\n",
              "    [theme=dark] .colab-df-convert:hover {\n",
              "      background-color: #434B5C;\n",
              "      box-shadow: 0px 1px 3px 1px rgba(0, 0, 0, 0.15);\n",
              "      filter: drop-shadow(0px 1px 2px rgba(0, 0, 0, 0.3));\n",
              "      fill: #FFFFFF;\n",
              "    }\n",
              "  </style>\n",
              "\n",
              "    <script>\n",
              "      const buttonEl =\n",
              "        document.querySelector('#df-24642273-b1ae-49b0-95bc-d25ba74148b2 button.colab-df-convert');\n",
              "      buttonEl.style.display =\n",
              "        google.colab.kernel.accessAllowed ? 'block' : 'none';\n",
              "\n",
              "      async function convertToInteractive(key) {\n",
              "        const element = document.querySelector('#df-24642273-b1ae-49b0-95bc-d25ba74148b2');\n",
              "        const dataTable =\n",
              "          await google.colab.kernel.invokeFunction('convertToInteractive',\n",
              "                                                    [key], {});\n",
              "        if (!dataTable) return;\n",
              "\n",
              "        const docLinkHtml = 'Like what you see? Visit the ' +\n",
              "          '<a target=\"_blank\" href=https://colab.research.google.com/notebooks/data_table.ipynb>data table notebook</a>'\n",
              "          + ' to learn more about interactive tables.';\n",
              "        element.innerHTML = '';\n",
              "        dataTable['output_type'] = 'display_data';\n",
              "        await google.colab.output.renderOutput(dataTable, element);\n",
              "        const docLink = document.createElement('div');\n",
              "        docLink.innerHTML = docLinkHtml;\n",
              "        element.appendChild(docLink);\n",
              "      }\n",
              "    </script>\n",
              "  </div>\n",
              "\n",
              "\n",
              "<div id=\"df-90b10a3c-d418-461c-84fe-f9f299f92d3e\">\n",
              "  <button class=\"colab-df-quickchart\" onclick=\"quickchart('df-90b10a3c-d418-461c-84fe-f9f299f92d3e')\"\n",
              "            title=\"Suggest charts\"\n",
              "            style=\"display:none;\">\n",
              "\n",
              "<svg xmlns=\"http://www.w3.org/2000/svg\" height=\"24px\"viewBox=\"0 0 24 24\"\n",
              "     width=\"24px\">\n",
              "    <g>\n",
              "        <path d=\"M19 3H5c-1.1 0-2 .9-2 2v14c0 1.1.9 2 2 2h14c1.1 0 2-.9 2-2V5c0-1.1-.9-2-2-2zM9 17H7v-7h2v7zm4 0h-2V7h2v10zm4 0h-2v-4h2v4z\"/>\n",
              "    </g>\n",
              "</svg>\n",
              "  </button>\n",
              "\n",
              "<style>\n",
              "  .colab-df-quickchart {\n",
              "      --bg-color: #E8F0FE;\n",
              "      --fill-color: #1967D2;\n",
              "      --hover-bg-color: #E2EBFA;\n",
              "      --hover-fill-color: #174EA6;\n",
              "      --disabled-fill-color: #AAA;\n",
              "      --disabled-bg-color: #DDD;\n",
              "  }\n",
              "\n",
              "  [theme=dark] .colab-df-quickchart {\n",
              "      --bg-color: #3B4455;\n",
              "      --fill-color: #D2E3FC;\n",
              "      --hover-bg-color: #434B5C;\n",
              "      --hover-fill-color: #FFFFFF;\n",
              "      --disabled-bg-color: #3B4455;\n",
              "      --disabled-fill-color: #666;\n",
              "  }\n",
              "\n",
              "  .colab-df-quickchart {\n",
              "    background-color: var(--bg-color);\n",
              "    border: none;\n",
              "    border-radius: 50%;\n",
              "    cursor: pointer;\n",
              "    display: none;\n",
              "    fill: var(--fill-color);\n",
              "    height: 32px;\n",
              "    padding: 0;\n",
              "    width: 32px;\n",
              "  }\n",
              "\n",
              "  .colab-df-quickchart:hover {\n",
              "    background-color: var(--hover-bg-color);\n",
              "    box-shadow: 0 1px 2px rgba(60, 64, 67, 0.3), 0 1px 3px 1px rgba(60, 64, 67, 0.15);\n",
              "    fill: var(--button-hover-fill-color);\n",
              "  }\n",
              "\n",
              "  .colab-df-quickchart-complete:disabled,\n",
              "  .colab-df-quickchart-complete:disabled:hover {\n",
              "    background-color: var(--disabled-bg-color);\n",
              "    fill: var(--disabled-fill-color);\n",
              "    box-shadow: none;\n",
              "  }\n",
              "\n",
              "  .colab-df-spinner {\n",
              "    border: 2px solid var(--fill-color);\n",
              "    border-color: transparent;\n",
              "    border-bottom-color: var(--fill-color);\n",
              "    animation:\n",
              "      spin 1s steps(1) infinite;\n",
              "  }\n",
              "\n",
              "  @keyframes spin {\n",
              "    0% {\n",
              "      border-color: transparent;\n",
              "      border-bottom-color: var(--fill-color);\n",
              "      border-left-color: var(--fill-color);\n",
              "    }\n",
              "    20% {\n",
              "      border-color: transparent;\n",
              "      border-left-color: var(--fill-color);\n",
              "      border-top-color: var(--fill-color);\n",
              "    }\n",
              "    30% {\n",
              "      border-color: transparent;\n",
              "      border-left-color: var(--fill-color);\n",
              "      border-top-color: var(--fill-color);\n",
              "      border-right-color: var(--fill-color);\n",
              "    }\n",
              "    40% {\n",
              "      border-color: transparent;\n",
              "      border-right-color: var(--fill-color);\n",
              "      border-top-color: var(--fill-color);\n",
              "    }\n",
              "    60% {\n",
              "      border-color: transparent;\n",
              "      border-right-color: var(--fill-color);\n",
              "    }\n",
              "    80% {\n",
              "      border-color: transparent;\n",
              "      border-right-color: var(--fill-color);\n",
              "      border-bottom-color: var(--fill-color);\n",
              "    }\n",
              "    90% {\n",
              "      border-color: transparent;\n",
              "      border-bottom-color: var(--fill-color);\n",
              "    }\n",
              "  }\n",
              "</style>\n",
              "\n",
              "  <script>\n",
              "    async function quickchart(key) {\n",
              "      const quickchartButtonEl =\n",
              "        document.querySelector('#' + key + ' button');\n",
              "      quickchartButtonEl.disabled = true;  // To prevent multiple clicks.\n",
              "      quickchartButtonEl.classList.add('colab-df-spinner');\n",
              "      try {\n",
              "        const charts = await google.colab.kernel.invokeFunction(\n",
              "            'suggestCharts', [key], {});\n",
              "      } catch (error) {\n",
              "        console.error('Error during call to suggestCharts:', error);\n",
              "      }\n",
              "      quickchartButtonEl.classList.remove('colab-df-spinner');\n",
              "      quickchartButtonEl.classList.add('colab-df-quickchart-complete');\n",
              "    }\n",
              "    (() => {\n",
              "      let quickchartButtonEl =\n",
              "        document.querySelector('#df-90b10a3c-d418-461c-84fe-f9f299f92d3e button');\n",
              "      quickchartButtonEl.style.display =\n",
              "        google.colab.kernel.accessAllowed ? 'block' : 'none';\n",
              "    })();\n",
              "  </script>\n",
              "</div>\n",
              "\n",
              "    </div>\n",
              "  </div>\n"
            ],
            "application/vnd.google.colaboratory.intrinsic+json": {
              "type": "dataframe",
              "variable_name": "df"
            }
          },
          "metadata": {},
          "execution_count": 3
        }
      ],
      "source": [
        "df.head()"
      ]
    },
    {
      "cell_type": "code",
      "execution_count": null,
      "metadata": {
        "id": "4Dal1L9BF11-"
      },
      "outputs": [],
      "source": [
        "#we can remove the Unnamed: 0 column, since it won't help the model\n",
        "df = df.drop(columns=['Unnamed: 0'])"
      ]
    },
    {
      "cell_type": "code",
      "execution_count": null,
      "metadata": {
        "colab": {
          "base_uri": "https://localhost:8080/",
          "height": 253
        },
        "id": "nNrX6p6dGcfl",
        "outputId": "7ee74179-384e-4b3f-c518-a25e8e4060c0"
      },
      "outputs": [
        {
          "output_type": "execute_result",
          "data": {
            "text/plain": [
              "   gene_0    gene_1    gene_2    gene_3     gene_4  gene_5    gene_6  \\\n",
              "0     0.0  2.017209  3.265527  5.478487  10.431999     0.0  7.175175   \n",
              "1     0.0  0.592732  1.588421  7.586157   9.623011     0.0  6.816049   \n",
              "2     0.0  3.511759  4.327199  6.881787   9.870730     0.0  6.972130   \n",
              "3     0.0  3.663618  4.507649  6.659068  10.196184     0.0  7.843375   \n",
              "4     0.0  2.655741  2.821547  6.539454   9.738265     0.0  6.566967   \n",
              "\n",
              "     gene_7  gene_8  gene_9  ...  gene_20522  gene_20523  gene_20524  \\\n",
              "0  0.591871     0.0     0.0  ...    8.210257    9.723516    7.220030   \n",
              "1  0.000000     0.0     0.0  ...    7.323865    9.740931    6.256586   \n",
              "2  0.452595     0.0     0.0  ...    8.127123   10.908640    5.401607   \n",
              "3  0.434882     0.0     0.0  ...    8.792959   10.141520    8.942805   \n",
              "4  0.360982     0.0     0.0  ...    8.891425   10.373790    7.181162   \n",
              "\n",
              "   gene_20525  gene_20526  gene_20527  gene_20528  gene_20529  gene_20530  \\\n",
              "0    9.119813   12.003135    9.650743    8.921326    5.286759         0.0   \n",
              "1    8.381612   12.674552   10.517059    9.397854    2.094168         0.0   \n",
              "2    9.911597    9.045255    9.788359   10.090470    1.683023         0.0   \n",
              "3    9.601208   11.392682    9.694814    9.684365    3.292001         0.0   \n",
              "4    9.846910   11.922439    9.217749    9.461191    5.110372         0.0   \n",
              "\n",
              "   Class  \n",
              "0   PRAD  \n",
              "1   LUAD  \n",
              "2   PRAD  \n",
              "3   PRAD  \n",
              "4   BRCA  \n",
              "\n",
              "[5 rows x 20532 columns]"
            ],
            "text/html": [
              "\n",
              "  <div id=\"df-c2aeb9c6-c3f4-45d0-a5be-d5e8fb846d05\" class=\"colab-df-container\">\n",
              "    <div>\n",
              "<style scoped>\n",
              "    .dataframe tbody tr th:only-of-type {\n",
              "        vertical-align: middle;\n",
              "    }\n",
              "\n",
              "    .dataframe tbody tr th {\n",
              "        vertical-align: top;\n",
              "    }\n",
              "\n",
              "    .dataframe thead th {\n",
              "        text-align: right;\n",
              "    }\n",
              "</style>\n",
              "<table border=\"1\" class=\"dataframe\">\n",
              "  <thead>\n",
              "    <tr style=\"text-align: right;\">\n",
              "      <th></th>\n",
              "      <th>gene_0</th>\n",
              "      <th>gene_1</th>\n",
              "      <th>gene_2</th>\n",
              "      <th>gene_3</th>\n",
              "      <th>gene_4</th>\n",
              "      <th>gene_5</th>\n",
              "      <th>gene_6</th>\n",
              "      <th>gene_7</th>\n",
              "      <th>gene_8</th>\n",
              "      <th>gene_9</th>\n",
              "      <th>...</th>\n",
              "      <th>gene_20522</th>\n",
              "      <th>gene_20523</th>\n",
              "      <th>gene_20524</th>\n",
              "      <th>gene_20525</th>\n",
              "      <th>gene_20526</th>\n",
              "      <th>gene_20527</th>\n",
              "      <th>gene_20528</th>\n",
              "      <th>gene_20529</th>\n",
              "      <th>gene_20530</th>\n",
              "      <th>Class</th>\n",
              "    </tr>\n",
              "  </thead>\n",
              "  <tbody>\n",
              "    <tr>\n",
              "      <th>0</th>\n",
              "      <td>0.0</td>\n",
              "      <td>2.017209</td>\n",
              "      <td>3.265527</td>\n",
              "      <td>5.478487</td>\n",
              "      <td>10.431999</td>\n",
              "      <td>0.0</td>\n",
              "      <td>7.175175</td>\n",
              "      <td>0.591871</td>\n",
              "      <td>0.0</td>\n",
              "      <td>0.0</td>\n",
              "      <td>...</td>\n",
              "      <td>8.210257</td>\n",
              "      <td>9.723516</td>\n",
              "      <td>7.220030</td>\n",
              "      <td>9.119813</td>\n",
              "      <td>12.003135</td>\n",
              "      <td>9.650743</td>\n",
              "      <td>8.921326</td>\n",
              "      <td>5.286759</td>\n",
              "      <td>0.0</td>\n",
              "      <td>PRAD</td>\n",
              "    </tr>\n",
              "    <tr>\n",
              "      <th>1</th>\n",
              "      <td>0.0</td>\n",
              "      <td>0.592732</td>\n",
              "      <td>1.588421</td>\n",
              "      <td>7.586157</td>\n",
              "      <td>9.623011</td>\n",
              "      <td>0.0</td>\n",
              "      <td>6.816049</td>\n",
              "      <td>0.000000</td>\n",
              "      <td>0.0</td>\n",
              "      <td>0.0</td>\n",
              "      <td>...</td>\n",
              "      <td>7.323865</td>\n",
              "      <td>9.740931</td>\n",
              "      <td>6.256586</td>\n",
              "      <td>8.381612</td>\n",
              "      <td>12.674552</td>\n",
              "      <td>10.517059</td>\n",
              "      <td>9.397854</td>\n",
              "      <td>2.094168</td>\n",
              "      <td>0.0</td>\n",
              "      <td>LUAD</td>\n",
              "    </tr>\n",
              "    <tr>\n",
              "      <th>2</th>\n",
              "      <td>0.0</td>\n",
              "      <td>3.511759</td>\n",
              "      <td>4.327199</td>\n",
              "      <td>6.881787</td>\n",
              "      <td>9.870730</td>\n",
              "      <td>0.0</td>\n",
              "      <td>6.972130</td>\n",
              "      <td>0.452595</td>\n",
              "      <td>0.0</td>\n",
              "      <td>0.0</td>\n",
              "      <td>...</td>\n",
              "      <td>8.127123</td>\n",
              "      <td>10.908640</td>\n",
              "      <td>5.401607</td>\n",
              "      <td>9.911597</td>\n",
              "      <td>9.045255</td>\n",
              "      <td>9.788359</td>\n",
              "      <td>10.090470</td>\n",
              "      <td>1.683023</td>\n",
              "      <td>0.0</td>\n",
              "      <td>PRAD</td>\n",
              "    </tr>\n",
              "    <tr>\n",
              "      <th>3</th>\n",
              "      <td>0.0</td>\n",
              "      <td>3.663618</td>\n",
              "      <td>4.507649</td>\n",
              "      <td>6.659068</td>\n",
              "      <td>10.196184</td>\n",
              "      <td>0.0</td>\n",
              "      <td>7.843375</td>\n",
              "      <td>0.434882</td>\n",
              "      <td>0.0</td>\n",
              "      <td>0.0</td>\n",
              "      <td>...</td>\n",
              "      <td>8.792959</td>\n",
              "      <td>10.141520</td>\n",
              "      <td>8.942805</td>\n",
              "      <td>9.601208</td>\n",
              "      <td>11.392682</td>\n",
              "      <td>9.694814</td>\n",
              "      <td>9.684365</td>\n",
              "      <td>3.292001</td>\n",
              "      <td>0.0</td>\n",
              "      <td>PRAD</td>\n",
              "    </tr>\n",
              "    <tr>\n",
              "      <th>4</th>\n",
              "      <td>0.0</td>\n",
              "      <td>2.655741</td>\n",
              "      <td>2.821547</td>\n",
              "      <td>6.539454</td>\n",
              "      <td>9.738265</td>\n",
              "      <td>0.0</td>\n",
              "      <td>6.566967</td>\n",
              "      <td>0.360982</td>\n",
              "      <td>0.0</td>\n",
              "      <td>0.0</td>\n",
              "      <td>...</td>\n",
              "      <td>8.891425</td>\n",
              "      <td>10.373790</td>\n",
              "      <td>7.181162</td>\n",
              "      <td>9.846910</td>\n",
              "      <td>11.922439</td>\n",
              "      <td>9.217749</td>\n",
              "      <td>9.461191</td>\n",
              "      <td>5.110372</td>\n",
              "      <td>0.0</td>\n",
              "      <td>BRCA</td>\n",
              "    </tr>\n",
              "  </tbody>\n",
              "</table>\n",
              "<p>5 rows × 20532 columns</p>\n",
              "</div>\n",
              "    <div class=\"colab-df-buttons\">\n",
              "\n",
              "  <div class=\"colab-df-container\">\n",
              "    <button class=\"colab-df-convert\" onclick=\"convertToInteractive('df-c2aeb9c6-c3f4-45d0-a5be-d5e8fb846d05')\"\n",
              "            title=\"Convert this dataframe to an interactive table.\"\n",
              "            style=\"display:none;\">\n",
              "\n",
              "  <svg xmlns=\"http://www.w3.org/2000/svg\" height=\"24px\" viewBox=\"0 -960 960 960\">\n",
              "    <path d=\"M120-120v-720h720v720H120Zm60-500h600v-160H180v160Zm220 220h160v-160H400v160Zm0 220h160v-160H400v160ZM180-400h160v-160H180v160Zm440 0h160v-160H620v160ZM180-180h160v-160H180v160Zm440 0h160v-160H620v160Z\"/>\n",
              "  </svg>\n",
              "    </button>\n",
              "\n",
              "  <style>\n",
              "    .colab-df-container {\n",
              "      display:flex;\n",
              "      gap: 12px;\n",
              "    }\n",
              "\n",
              "    .colab-df-convert {\n",
              "      background-color: #E8F0FE;\n",
              "      border: none;\n",
              "      border-radius: 50%;\n",
              "      cursor: pointer;\n",
              "      display: none;\n",
              "      fill: #1967D2;\n",
              "      height: 32px;\n",
              "      padding: 0 0 0 0;\n",
              "      width: 32px;\n",
              "    }\n",
              "\n",
              "    .colab-df-convert:hover {\n",
              "      background-color: #E2EBFA;\n",
              "      box-shadow: 0px 1px 2px rgba(60, 64, 67, 0.3), 0px 1px 3px 1px rgba(60, 64, 67, 0.15);\n",
              "      fill: #174EA6;\n",
              "    }\n",
              "\n",
              "    .colab-df-buttons div {\n",
              "      margin-bottom: 4px;\n",
              "    }\n",
              "\n",
              "    [theme=dark] .colab-df-convert {\n",
              "      background-color: #3B4455;\n",
              "      fill: #D2E3FC;\n",
              "    }\n",
              "\n",
              "    [theme=dark] .colab-df-convert:hover {\n",
              "      background-color: #434B5C;\n",
              "      box-shadow: 0px 1px 3px 1px rgba(0, 0, 0, 0.15);\n",
              "      filter: drop-shadow(0px 1px 2px rgba(0, 0, 0, 0.3));\n",
              "      fill: #FFFFFF;\n",
              "    }\n",
              "  </style>\n",
              "\n",
              "    <script>\n",
              "      const buttonEl =\n",
              "        document.querySelector('#df-c2aeb9c6-c3f4-45d0-a5be-d5e8fb846d05 button.colab-df-convert');\n",
              "      buttonEl.style.display =\n",
              "        google.colab.kernel.accessAllowed ? 'block' : 'none';\n",
              "\n",
              "      async function convertToInteractive(key) {\n",
              "        const element = document.querySelector('#df-c2aeb9c6-c3f4-45d0-a5be-d5e8fb846d05');\n",
              "        const dataTable =\n",
              "          await google.colab.kernel.invokeFunction('convertToInteractive',\n",
              "                                                    [key], {});\n",
              "        if (!dataTable) return;\n",
              "\n",
              "        const docLinkHtml = 'Like what you see? Visit the ' +\n",
              "          '<a target=\"_blank\" href=https://colab.research.google.com/notebooks/data_table.ipynb>data table notebook</a>'\n",
              "          + ' to learn more about interactive tables.';\n",
              "        element.innerHTML = '';\n",
              "        dataTable['output_type'] = 'display_data';\n",
              "        await google.colab.output.renderOutput(dataTable, element);\n",
              "        const docLink = document.createElement('div');\n",
              "        docLink.innerHTML = docLinkHtml;\n",
              "        element.appendChild(docLink);\n",
              "      }\n",
              "    </script>\n",
              "  </div>\n",
              "\n",
              "\n",
              "<div id=\"df-5bf2e2cc-ae0a-42d2-bfd7-bf6d0b707490\">\n",
              "  <button class=\"colab-df-quickchart\" onclick=\"quickchart('df-5bf2e2cc-ae0a-42d2-bfd7-bf6d0b707490')\"\n",
              "            title=\"Suggest charts\"\n",
              "            style=\"display:none;\">\n",
              "\n",
              "<svg xmlns=\"http://www.w3.org/2000/svg\" height=\"24px\"viewBox=\"0 0 24 24\"\n",
              "     width=\"24px\">\n",
              "    <g>\n",
              "        <path d=\"M19 3H5c-1.1 0-2 .9-2 2v14c0 1.1.9 2 2 2h14c1.1 0 2-.9 2-2V5c0-1.1-.9-2-2-2zM9 17H7v-7h2v7zm4 0h-2V7h2v10zm4 0h-2v-4h2v4z\"/>\n",
              "    </g>\n",
              "</svg>\n",
              "  </button>\n",
              "\n",
              "<style>\n",
              "  .colab-df-quickchart {\n",
              "      --bg-color: #E8F0FE;\n",
              "      --fill-color: #1967D2;\n",
              "      --hover-bg-color: #E2EBFA;\n",
              "      --hover-fill-color: #174EA6;\n",
              "      --disabled-fill-color: #AAA;\n",
              "      --disabled-bg-color: #DDD;\n",
              "  }\n",
              "\n",
              "  [theme=dark] .colab-df-quickchart {\n",
              "      --bg-color: #3B4455;\n",
              "      --fill-color: #D2E3FC;\n",
              "      --hover-bg-color: #434B5C;\n",
              "      --hover-fill-color: #FFFFFF;\n",
              "      --disabled-bg-color: #3B4455;\n",
              "      --disabled-fill-color: #666;\n",
              "  }\n",
              "\n",
              "  .colab-df-quickchart {\n",
              "    background-color: var(--bg-color);\n",
              "    border: none;\n",
              "    border-radius: 50%;\n",
              "    cursor: pointer;\n",
              "    display: none;\n",
              "    fill: var(--fill-color);\n",
              "    height: 32px;\n",
              "    padding: 0;\n",
              "    width: 32px;\n",
              "  }\n",
              "\n",
              "  .colab-df-quickchart:hover {\n",
              "    background-color: var(--hover-bg-color);\n",
              "    box-shadow: 0 1px 2px rgba(60, 64, 67, 0.3), 0 1px 3px 1px rgba(60, 64, 67, 0.15);\n",
              "    fill: var(--button-hover-fill-color);\n",
              "  }\n",
              "\n",
              "  .colab-df-quickchart-complete:disabled,\n",
              "  .colab-df-quickchart-complete:disabled:hover {\n",
              "    background-color: var(--disabled-bg-color);\n",
              "    fill: var(--disabled-fill-color);\n",
              "    box-shadow: none;\n",
              "  }\n",
              "\n",
              "  .colab-df-spinner {\n",
              "    border: 2px solid var(--fill-color);\n",
              "    border-color: transparent;\n",
              "    border-bottom-color: var(--fill-color);\n",
              "    animation:\n",
              "      spin 1s steps(1) infinite;\n",
              "  }\n",
              "\n",
              "  @keyframes spin {\n",
              "    0% {\n",
              "      border-color: transparent;\n",
              "      border-bottom-color: var(--fill-color);\n",
              "      border-left-color: var(--fill-color);\n",
              "    }\n",
              "    20% {\n",
              "      border-color: transparent;\n",
              "      border-left-color: var(--fill-color);\n",
              "      border-top-color: var(--fill-color);\n",
              "    }\n",
              "    30% {\n",
              "      border-color: transparent;\n",
              "      border-left-color: var(--fill-color);\n",
              "      border-top-color: var(--fill-color);\n",
              "      border-right-color: var(--fill-color);\n",
              "    }\n",
              "    40% {\n",
              "      border-color: transparent;\n",
              "      border-right-color: var(--fill-color);\n",
              "      border-top-color: var(--fill-color);\n",
              "    }\n",
              "    60% {\n",
              "      border-color: transparent;\n",
              "      border-right-color: var(--fill-color);\n",
              "    }\n",
              "    80% {\n",
              "      border-color: transparent;\n",
              "      border-right-color: var(--fill-color);\n",
              "      border-bottom-color: var(--fill-color);\n",
              "    }\n",
              "    90% {\n",
              "      border-color: transparent;\n",
              "      border-bottom-color: var(--fill-color);\n",
              "    }\n",
              "  }\n",
              "</style>\n",
              "\n",
              "  <script>\n",
              "    async function quickchart(key) {\n",
              "      const quickchartButtonEl =\n",
              "        document.querySelector('#' + key + ' button');\n",
              "      quickchartButtonEl.disabled = true;  // To prevent multiple clicks.\n",
              "      quickchartButtonEl.classList.add('colab-df-spinner');\n",
              "      try {\n",
              "        const charts = await google.colab.kernel.invokeFunction(\n",
              "            'suggestCharts', [key], {});\n",
              "      } catch (error) {\n",
              "        console.error('Error during call to suggestCharts:', error);\n",
              "      }\n",
              "      quickchartButtonEl.classList.remove('colab-df-spinner');\n",
              "      quickchartButtonEl.classList.add('colab-df-quickchart-complete');\n",
              "    }\n",
              "    (() => {\n",
              "      let quickchartButtonEl =\n",
              "        document.querySelector('#df-5bf2e2cc-ae0a-42d2-bfd7-bf6d0b707490 button');\n",
              "      quickchartButtonEl.style.display =\n",
              "        google.colab.kernel.accessAllowed ? 'block' : 'none';\n",
              "    })();\n",
              "  </script>\n",
              "</div>\n",
              "\n",
              "    </div>\n",
              "  </div>\n"
            ],
            "application/vnd.google.colaboratory.intrinsic+json": {
              "type": "dataframe",
              "variable_name": "df"
            }
          },
          "metadata": {},
          "execution_count": 5
        }
      ],
      "source": [
        "df.head()"
      ]
    },
    {
      "cell_type": "markdown",
      "metadata": {
        "id": "hyocv2rKoTev"
      },
      "source": [
        "Let's check for any missing values"
      ]
    },
    {
      "cell_type": "code",
      "execution_count": null,
      "metadata": {
        "colab": {
          "base_uri": "https://localhost:8080/"
        },
        "id": "pNWx9S9qmjov",
        "outputId": "6d7478f7-e9a4-4e97-b2f3-b76a3814cdd5"
      },
      "outputs": [
        {
          "output_type": "stream",
          "name": "stdout",
          "text": [
            "gene_0        0\n",
            "gene_1        0\n",
            "gene_2        0\n",
            "gene_3        0\n",
            "gene_4        0\n",
            "             ..\n",
            "gene_20527    0\n",
            "gene_20528    0\n",
            "gene_20529    0\n",
            "gene_20530    0\n",
            "Class         0\n",
            "Length: 20532, dtype: int64\n"
          ]
        }
      ],
      "source": [
        "print(df.isnull().sum())"
      ]
    },
    {
      "cell_type": "markdown",
      "metadata": {
        "id": "NFFKlIXOomjK"
      },
      "source": [
        "Nice, we're not missing any data! We can continue with looking at our data\n",
        "\n",
        "Note: Because we have so little data, there is a risk of overfitting due to the small amount of data available. In this case, the model will memorize the solutions, rather than learn how to predict cancer types. On the flip side, there is so little data the model may be too simple to detect patterns and underfit. To handle this, we will implement k-fold cross-validation to maximize our opportunity to tweak the model's hyperparameters and assess its performance.\n",
        "\n",
        "K-fold cross-validation involves dividing the dataset into K equally-sized folds/subsets. The model will be trained on some folds, and validated on others. This process is repeated many times, using a different fold each time as the validation set.\n",
        "\n",
        "Next, let's look into the possible input for the genes, as well as the labels."
      ]
    },
    {
      "cell_type": "code",
      "execution_count": null,
      "metadata": {
        "colab": {
          "base_uri": "https://localhost:8080/"
        },
        "id": "EvuU2ohwqzse",
        "outputId": "e8eefa17-61dc-40cb-ca7d-cda296013cd6"
      },
      "outputs": [
        {
          "output_type": "execute_result",
          "data": {
            "text/plain": [
              "array(['PRAD', 'LUAD', 'BRCA', 'KIRC', 'COAD'], dtype=object)"
            ]
          },
          "metadata": {},
          "execution_count": 7
        }
      ],
      "source": [
        "df['Class'].unique()"
      ]
    },
    {
      "cell_type": "markdown",
      "metadata": {
        "id": "H9mx-cqcuZq5"
      },
      "source": [
        "These are the different cancer types. This is the key below:\n",
        "\n",
        "PRAD: Prostate adenocarcinoma (Prostate cancer)\n",
        "\n",
        "LUAD: Lung adenocarcinoma (Lung cancer)\n",
        "\n",
        "BRCA: Breast carcinoma (Breast cancer)\n",
        "\n",
        "KIRC: Kidney renal clear cell carcinoma (Renal tubule kidney cancer)\n",
        "\n",
        "COAD: Colon adenocarcinoma (Colon cancer)"
      ]
    },
    {
      "cell_type": "code",
      "execution_count": null,
      "metadata": {
        "colab": {
          "base_uri": "https://localhost:8080/"
        },
        "id": "yULe03aipWPe",
        "outputId": "44122c0e-750a-44b7-d12e-4938c6fe32fd"
      },
      "outputs": [
        {
          "output_type": "execute_result",
          "data": {
            "text/plain": [
              "array([0.        , 0.34175809, 0.63152341, 1.48233202, 0.66775591,\n",
              "       0.54408967, 0.81893234, 0.41294407, 0.531868  , 0.3287216 ,\n",
              "       0.34164424, 0.56588958, 0.69884077, 0.6247092 , 0.58890049,\n",
              "       1.21915303, 0.48738344, 0.33753984, 0.54774594, 1.24110797,\n",
              "       0.87334075, 0.75745002, 0.64643919, 0.56666905, 0.54201036,\n",
              "       0.84406421, 0.55316387, 0.45037988, 0.28392177, 0.66411871,\n",
              "       0.32515612, 0.36333931, 0.80776706, 0.40860318, 0.40403114,\n",
              "       0.43658829])"
            ]
          },
          "metadata": {},
          "execution_count": 8
        }
      ],
      "source": [
        "df['gene_0'].unique()"
      ]
    },
    {
      "cell_type": "markdown",
      "metadata": {
        "id": "mvsKzGyswivr"
      },
      "source": [
        "Nice, looks like there's no unexpected inputs in the data. Let's move into our train/validation split. First, we're going to create labeled examples and split our data."
      ]
    },
    {
      "cell_type": "code",
      "execution_count": null,
      "metadata": {
        "colab": {
          "base_uri": "https://localhost:8080/"
        },
        "id": "238lQr6iqSa2",
        "outputId": "eed4f6ab-302a-4412-f531-6d758bcd4881"
      },
      "outputs": [
        {
          "output_type": "stream",
          "name": "stdout",
          "text": [
            "Number of Examples: 801\n",
            "Number of Features: 20531\n",
            "\n",
            "Features:\n",
            "\n",
            "     gene_0    gene_1    gene_2    gene_3     gene_4  gene_5    gene_6  \\\n",
            "0       0.0  2.017209  3.265527  5.478487  10.431999     0.0  7.175175   \n",
            "1       0.0  0.592732  1.588421  7.586157   9.623011     0.0  6.816049   \n",
            "2       0.0  3.511759  4.327199  6.881787   9.870730     0.0  6.972130   \n",
            "3       0.0  3.663618  4.507649  6.659068  10.196184     0.0  7.843375   \n",
            "4       0.0  2.655741  2.821547  6.539454   9.738265     0.0  6.566967   \n",
            "..      ...       ...       ...       ...        ...     ...       ...   \n",
            "796     0.0  1.865642  2.718197  7.350099  10.006003     0.0  6.764792   \n",
            "797     0.0  3.942955  4.453807  6.346597  10.056868     0.0  7.320331   \n",
            "798     0.0  3.249582  3.707492  8.185901   9.504082     0.0  7.536589   \n",
            "799     0.0  2.590339  2.787976  7.318624   9.987136     0.0  9.213464   \n",
            "800     0.0  2.325242  3.805932  6.530246   9.560367     0.0  7.957027   \n",
            "\n",
            "       gene_7  gene_8  gene_9  ...  gene_20521  gene_20522  gene_20523  \\\n",
            "0    0.591871     0.0     0.0  ...    4.926711    8.210257    9.723516   \n",
            "1    0.000000     0.0     0.0  ...    4.593372    7.323865    9.740931   \n",
            "2    0.452595     0.0     0.0  ...    5.125213    8.127123   10.908640   \n",
            "3    0.434882     0.0     0.0  ...    6.076566    8.792959   10.141520   \n",
            "4    0.360982     0.0     0.0  ...    5.996032    8.891425   10.373790   \n",
            "..        ...     ...     ...  ...         ...         ...         ...   \n",
            "796  0.496922     0.0     0.0  ...    6.088133    9.118313   10.004852   \n",
            "797  0.000000     0.0     0.0  ...    6.371876    9.623335    9.823921   \n",
            "798  1.811101     0.0     0.0  ...    5.719386    8.610704   10.485517   \n",
            "799  0.000000     0.0     0.0  ...    5.785237    8.605387   11.004677   \n",
            "800  0.000000     0.0     0.0  ...    6.403075    8.594354   10.243079   \n",
            "\n",
            "     gene_20524  gene_20525  gene_20526  gene_20527  gene_20528  gene_20529  \\\n",
            "0      7.220030    9.119813   12.003135    9.650743    8.921326    5.286759   \n",
            "1      6.256586    8.381612   12.674552   10.517059    9.397854    2.094168   \n",
            "2      5.401607    9.911597    9.045255    9.788359   10.090470    1.683023   \n",
            "3      8.942805    9.601208   11.392682    9.694814    9.684365    3.292001   \n",
            "4      7.181162    9.846910   11.922439    9.217749    9.461191    5.110372   \n",
            "..          ...         ...         ...         ...         ...         ...   \n",
            "796    4.484415    9.614701   12.031267    9.813063   10.092770    8.819269   \n",
            "797    6.555327    9.064002   11.633422   10.317266    8.745983    9.659081   \n",
            "798    3.589763    9.350636   12.180944   10.681194    9.466711    4.677458   \n",
            "799    4.745888    9.626383   11.198279   10.335513   10.400581    5.718751   \n",
            "800    9.139459   10.102934   11.641081   10.607358    9.844794    4.550716   \n",
            "\n",
            "     gene_20530  \n",
            "0      0.000000  \n",
            "1      0.000000  \n",
            "2      0.000000  \n",
            "3      0.000000  \n",
            "4      0.000000  \n",
            "..          ...  \n",
            "796    0.000000  \n",
            "797    0.000000  \n",
            "798    0.586693  \n",
            "799    0.000000  \n",
            "800    0.000000  \n",
            "\n",
            "[801 rows x 20531 columns]\n",
            "\n",
            "Labels:\n",
            "\n",
            "0      PRAD\n",
            "1      LUAD\n",
            "2      PRAD\n",
            "3      PRAD\n",
            "4      BRCA\n",
            "       ... \n",
            "796    BRCA\n",
            "797    LUAD\n",
            "798    COAD\n",
            "799    PRAD\n",
            "800    PRAD\n",
            "Name: Class, Length: 801, dtype: object\n"
          ]
        }
      ],
      "source": [
        "y = df['Class']\n",
        "X = df.drop(columns = 'Class', axis=1)\n",
        "\n",
        "print(\"Number of Examples: \" + str(X.shape[0]))\n",
        "print(\"Number of Features: \" + str(X.shape[1]))\n",
        "print(\"\\nFeatures:\\n\")\n",
        "print(X)\n",
        "print(\"\\nLabels:\\n\")\n",
        "print(y)"
      ]
    },
    {
      "cell_type": "markdown",
      "metadata": {
        "id": "Qx0i5Kgiu9OH"
      },
      "source": [
        "# **MODEL SETUP**\n",
        "Setting up the model using k-fold cross-validation and L1 normalization to train the model more rigorously."
      ]
    },
    {
      "cell_type": "code",
      "execution_count": null,
      "metadata": {
        "colab": {
          "base_uri": "https://localhost:8080/"
        },
        "id": "_ZGApfU-uW35",
        "outputId": "048f2109-d226-493e-af98-3c900eec7ca9"
      },
      "outputs": [
        {
          "output_type": "stream",
          "name": "stdout",
          "text": [
            "Average Precision: 0.9941 ± 0.0035\n",
            "Average Recall: 0.9938 ± 0.0040\n",
            "Average F1 Score: 0.9938 ± 0.0039\n",
            "Average Accuracy: 0.9938 ± 0.0040\n"
          ]
        }
      ],
      "source": [
        "from sklearn.preprocessing import normalize\n",
        "\n",
        "from sklearn.model_selection import StratifiedKFold, cross_val_score\n",
        "from sklearn.neighbors import KNeighborsClassifier\n",
        "from sklearn.metrics import precision_score, recall_score, f1_score, confusion_matrix, accuracy_score\n",
        "from sklearn.preprocessing import StandardScaler\n",
        "import numpy as np\n",
        "\n",
        "# Assuming X and y are your features and target labels\n",
        "# StratifiedKFold ensures that each fold maintains the class distribution\n",
        "kf = StratifiedKFold(n_splits=5, shuffle=True, random_state=42)\n",
        "\n",
        "# Initialize the model\n",
        "model = KNeighborsClassifier(n_neighbors=5, weights='distance')\n",
        "\n",
        "# Standardize the features (important for k-NN)\n",
        "scaler = StandardScaler()\n",
        "X_scaled = scaler.fit_transform(X)  # Normalize the features for k-NN\n",
        "\n",
        "# Initialize lists to store performance metrics for each fold\n",
        "precisions = []\n",
        "recalls = []\n",
        "f1_scores = []\n",
        "accuracies = []\n",
        "\n",
        "# Start k-fold cross-validation\n",
        "for train_index, test_index in kf.split(X_scaled, y):\n",
        "    X_train, X_test = X_scaled[train_index], X_scaled[test_index]\n",
        "    y_train, y_test = y[train_index], y[test_index]\n",
        "    X_train = normalize(X_train, norm='l1', axis=1)\n",
        "    X_test = normalize(X_test, norm='l1', axis=1)\n",
        "\n",
        "    # Train the model\n",
        "    model.fit(X_train, y_train)\n",
        "\n",
        "    # Make predictions\n",
        "    y_pred = model.predict(X_test)\n",
        "\n",
        "    # Calculate evaluation metrics\n",
        "    precision = precision_score(y_test, y_pred, average='weighted')\n",
        "    recall = recall_score(y_test, y_pred, average='weighted')\n",
        "    f1 = f1_score(y_test, y_pred, average='weighted')\n",
        "    accuracy = accuracy_score(y_test, y_pred)\n",
        "\n",
        "    # Append metrics for this fold\n",
        "    precisions.append(precision)\n",
        "    recalls.append(recall)\n",
        "    f1_scores.append(f1)\n",
        "    accuracies.append(accuracy)\n",
        "\n",
        "# Compute the mean and standard deviation of each metric across all folds\n",
        "print(f\"Average Precision: {np.mean(precisions):.4f} ± {np.std(precisions):.4f}\")\n",
        "print(f\"Average Recall: {np.mean(recalls):.4f} ± {np.std(recalls):.4f}\")\n",
        "print(f\"Average F1 Score: {np.mean(f1_scores):.4f} ± {np.std(f1_scores):.4f}\")\n",
        "print(f\"Average Accuracy: {np.mean(accuracies):.4f} ± {np.std(accuracies):.4f}\")\n"
      ]
    },
    {
      "cell_type": "code",
      "execution_count": null,
      "metadata": {
        "colab": {
          "base_uri": "https://localhost:8080/"
        },
        "id": "Yy01mNAY8wGd",
        "outputId": "2c9d8f84-7386-4564-8e19-155e9cb88a7a"
      },
      "outputs": [
        {
          "output_type": "stream",
          "name": "stdout",
          "text": [
            "Best parameters: {'n_neighbors': 5, 'weights': 'uniform'}\n",
            "Best cross-validation accuracy: 0.9963\n"
          ]
        }
      ],
      "source": [
        "from sklearn.model_selection import GridSearchCV\n",
        "\n",
        "param_grid = {'n_neighbors': [3, 5, 7, 9], 'weights': ['uniform', 'distance']}\n",
        "grid_search = GridSearchCV(KNeighborsClassifier(), param_grid, cv=5, scoring='accuracy')\n",
        "grid_search.fit(X_scaled, y)\n",
        "\n",
        "print(f\"Best parameters: {grid_search.best_params_}\")\n",
        "print(f\"Best cross-validation accuracy: {grid_search.best_score_:.4f}\")\n"
      ]
    },
    {
      "cell_type": "code",
      "execution_count": null,
      "metadata": {
        "id": "UWnlrzDm85Gv"
      },
      "outputs": [],
      "source": [
        "model = KNeighborsClassifier(n_neighbors=5, weights='uniform')\n",
        "model.fit(X_train, y_train)\n",
        "y_pred = model.predict(X_test)"
      ]
    },
    {
      "cell_type": "markdown",
      "metadata": {
        "id": "B-3inUQ4u_M6"
      },
      "source": [
        "# **EVALUATION**"
      ]
    },
    {
      "cell_type": "markdown",
      "metadata": {
        "id": "XGDAMJ6U-kjX"
      },
      "source": [
        "**Cross-Validation**"
      ]
    },
    {
      "cell_type": "code",
      "execution_count": null,
      "metadata": {
        "colab": {
          "base_uri": "https://localhost:8080/"
        },
        "id": "uCbclvN7vw6I",
        "outputId": "20053400-3bd7-4616-efc2-5bc36073a79d"
      },
      "outputs": [
        {
          "output_type": "stream",
          "name": "stdout",
          "text": [
            "Accuracies for each fold in Leave-One-Out CV:\n",
            "[1.0, 1.0, 1.0, 1.0, 1.0, 1.0, 1.0, 1.0, 1.0, 1.0, 1.0, 1.0, 1.0, 1.0, 1.0, 1.0, 1.0, 1.0, 1.0, 1.0, 1.0, 1.0, 1.0, 1.0, 1.0, 1.0, 1.0, 1.0, 1.0, 1.0, 1.0, 1.0, 1.0, 1.0, 1.0, 1.0, 1.0, 1.0, 1.0, 1.0, 1.0, 1.0, 1.0, 1.0, 1.0, 1.0, 1.0, 1.0, 1.0, 1.0, 1.0, 1.0, 1.0, 1.0, 1.0, 1.0, 1.0, 1.0, 1.0, 1.0, 1.0, 1.0, 1.0, 1.0, 1.0, 1.0, 1.0, 1.0, 1.0, 1.0, 1.0, 1.0, 1.0, 1.0, 1.0, 1.0, 1.0, 1.0, 1.0, 1.0, 1.0, 1.0, 1.0, 1.0, 1.0, 1.0, 1.0, 1.0, 1.0, 1.0, 1.0, 1.0, 1.0, 1.0, 1.0, 1.0, 1.0, 1.0, 1.0, 1.0, 1.0, 1.0, 1.0, 1.0, 1.0, 1.0, 1.0, 1.0, 1.0, 1.0, 1.0, 1.0, 1.0, 1.0, 1.0, 1.0, 1.0, 1.0, 1.0, 1.0, 1.0, 1.0, 1.0, 1.0, 1.0, 1.0, 1.0, 1.0, 1.0, 1.0, 1.0, 1.0, 1.0, 1.0, 1.0, 1.0, 1.0, 1.0, 1.0, 1.0, 1.0, 1.0, 1.0, 1.0, 1.0, 1.0, 1.0, 1.0, 1.0, 0.0, 1.0, 1.0, 1.0, 1.0, 1.0, 1.0, 1.0, 1.0, 1.0, 1.0, 1.0, 1.0, 1.0, 1.0, 1.0, 1.0, 1.0, 1.0, 1.0, 1.0, 1.0, 1.0, 1.0, 1.0, 1.0, 1.0, 1.0, 1.0, 1.0, 1.0, 1.0, 1.0, 1.0, 1.0, 1.0, 1.0, 1.0, 1.0, 1.0, 1.0, 1.0, 1.0, 1.0, 1.0, 1.0, 1.0, 1.0, 1.0, 1.0, 1.0, 1.0, 1.0, 1.0, 1.0, 1.0, 1.0, 1.0, 1.0, 1.0, 1.0, 1.0, 0.0, 1.0, 1.0, 1.0, 1.0, 1.0, 1.0, 1.0, 1.0, 1.0, 1.0, 1.0, 1.0, 0.0, 1.0, 1.0, 1.0, 1.0, 1.0, 1.0, 1.0, 1.0, 1.0, 1.0, 1.0, 1.0, 1.0, 1.0, 1.0, 1.0, 1.0, 1.0, 1.0, 1.0, 1.0, 1.0, 1.0, 1.0, 1.0, 1.0, 1.0, 1.0, 0.0, 1.0, 1.0, 1.0, 1.0, 1.0, 1.0, 1.0, 1.0, 1.0, 1.0, 1.0, 1.0, 1.0, 1.0, 1.0, 1.0, 1.0, 1.0, 1.0, 1.0, 1.0, 1.0, 1.0, 1.0, 1.0, 1.0, 1.0, 1.0, 1.0, 1.0, 1.0, 1.0, 1.0, 1.0, 1.0, 1.0, 1.0, 1.0, 1.0, 1.0, 1.0, 1.0, 1.0, 1.0, 1.0, 1.0, 1.0, 1.0, 1.0, 1.0, 1.0, 1.0, 1.0, 1.0, 1.0, 1.0, 1.0, 1.0, 1.0, 1.0, 1.0, 1.0, 1.0, 1.0, 1.0, 1.0, 1.0, 1.0, 1.0, 1.0, 1.0, 1.0, 1.0, 1.0, 1.0, 1.0, 1.0, 1.0, 1.0, 1.0, 1.0, 1.0, 1.0, 1.0, 1.0, 1.0, 1.0, 1.0, 1.0, 1.0, 1.0, 1.0, 1.0, 1.0, 1.0, 1.0, 1.0, 1.0, 1.0, 1.0, 1.0, 1.0, 1.0, 1.0, 1.0, 1.0, 1.0, 1.0, 1.0, 1.0, 1.0, 1.0, 1.0, 1.0, 1.0, 1.0, 1.0, 1.0, 1.0, 1.0, 1.0, 1.0, 1.0, 1.0, 1.0, 1.0, 1.0, 1.0, 1.0, 1.0, 1.0, 1.0, 1.0, 1.0, 1.0, 1.0, 1.0, 1.0, 1.0, 1.0, 1.0, 1.0, 1.0, 1.0, 1.0, 1.0, 1.0, 1.0, 1.0, 1.0, 1.0, 1.0, 1.0, 1.0, 1.0, 1.0, 1.0, 1.0, 1.0, 1.0, 1.0, 1.0, 1.0, 1.0, 1.0, 1.0, 1.0, 1.0, 1.0, 1.0, 1.0, 1.0, 1.0, 1.0, 1.0, 1.0, 1.0, 1.0, 1.0, 1.0, 1.0, 1.0, 1.0, 1.0, 1.0, 1.0, 1.0, 1.0, 1.0, 1.0, 1.0, 1.0, 1.0, 1.0, 1.0, 1.0, 1.0, 1.0, 1.0, 1.0, 1.0, 1.0, 1.0, 1.0, 1.0, 1.0, 1.0, 1.0, 1.0, 1.0, 1.0, 1.0, 1.0, 1.0, 1.0, 1.0, 1.0, 1.0, 1.0, 1.0, 1.0, 1.0, 1.0, 1.0, 1.0, 1.0, 1.0, 1.0, 1.0, 1.0, 1.0, 1.0, 1.0, 1.0, 1.0, 1.0, 1.0, 1.0, 1.0, 1.0, 1.0, 1.0, 1.0, 1.0, 1.0, 1.0, 1.0, 1.0, 1.0, 1.0, 1.0, 1.0, 1.0, 1.0, 1.0, 1.0, 1.0, 1.0, 1.0, 1.0, 1.0, 1.0, 1.0, 1.0, 1.0, 1.0, 1.0, 1.0, 1.0, 1.0, 1.0, 1.0, 1.0, 1.0, 1.0, 1.0, 1.0, 1.0, 1.0, 1.0, 1.0, 1.0, 1.0, 1.0, 1.0, 1.0, 1.0, 1.0, 1.0, 1.0, 1.0, 1.0, 1.0, 1.0, 1.0, 1.0, 1.0, 1.0, 1.0, 1.0, 1.0, 1.0, 1.0, 1.0, 1.0, 1.0, 1.0, 1.0, 1.0, 1.0, 1.0, 1.0, 1.0, 1.0, 1.0, 1.0, 1.0, 1.0, 1.0, 1.0, 1.0, 1.0, 1.0, 1.0, 1.0, 1.0, 1.0, 1.0, 1.0, 1.0, 1.0, 1.0, 1.0, 1.0, 1.0, 1.0, 1.0, 1.0, 1.0, 1.0, 1.0, 1.0, 1.0, 1.0, 1.0, 1.0, 1.0, 1.0, 1.0, 1.0, 1.0, 1.0, 1.0, 1.0, 1.0, 1.0, 1.0, 1.0, 1.0, 1.0, 1.0, 1.0, 1.0, 1.0, 1.0, 1.0, 1.0, 1.0, 1.0, 1.0, 1.0, 1.0, 1.0, 1.0, 1.0, 1.0, 1.0, 1.0, 1.0, 1.0, 1.0, 1.0, 1.0, 1.0, 1.0, 1.0, 1.0]\n",
            "Mean Accuracy (LOOCV): 0.9938\n"
          ]
        }
      ],
      "source": [
        "from sklearn.model_selection import LeaveOneOut\n",
        "from sklearn.metrics import accuracy_score\n",
        "import numpy as np\n",
        "\n",
        "# Initialize LeaveOneOut\n",
        "loo = LeaveOneOut()\n",
        "\n",
        "# Perform LOOCV\n",
        "accuracy_scores = []\n",
        "for train_index, test_index in loo.split(X_train):\n",
        "    X_train_fold, X_test_fold = X_train[train_index], X_train[test_index]\n",
        "\n",
        "    # Use .iloc to index y_train based on integer positions:\n",
        "    y_train_fold, y_test_fold = y_train.iloc[train_index], y_train.iloc[test_index]\n",
        "\n",
        "    # Train the model\n",
        "    model.fit(X_train_fold, y_train_fold)\n",
        "\n",
        "    # Make predictions\n",
        "    y_pred_fold = model.predict(X_test_fold)\n",
        "\n",
        "    # Calculate accuracy for this fold\n",
        "    accuracy_scores.append(accuracy_score(y_test_fold, y_pred_fold))\n",
        "\n",
        "# Print the accuracy scores\n",
        "print('Accuracies for each fold in Leave-One-Out CV:')\n",
        "print(accuracy_scores)\n",
        "\n",
        "# Calculate and print the mean accuracy\n",
        "mean_accuracy = np.mean(accuracy_scores)\n",
        "print(f'Mean Accuracy (LOOCV): {mean_accuracy:.4f}') # Corrected line"
      ]
    },
    {
      "cell_type": "markdown",
      "metadata": {
        "id": "1liaRFqUFWOq"
      },
      "source": [
        "Next, we're going to build our model. We're building a logistic regression model, and we want to make sure we're optimizing the model's hyperparameters. Firstly, we'll be testing different c values and choose the best one depending on how low the log loss is relative to how high the accuracy score is."
      ]
    },
    {
      "cell_type": "markdown",
      "metadata": {
        "id": "l8E1xeXw-rjI"
      },
      "source": [
        "**Mean Accuracy**"
      ]
    },
    {
      "cell_type": "code",
      "execution_count": null,
      "metadata": {
        "colab": {
          "base_uri": "https://localhost:8080/"
        },
        "id": "VyBDj4MnJixI",
        "outputId": "c5955cff-fb44-44a2-f8e8-768ffebfe646"
      },
      "outputs": [
        {
          "output_type": "stream",
          "name": "stdout",
          "text": [
            "The mean accuracy score across the five iterations:\n",
            "0.9937597503900156\n",
            "The standard deviation of the accuracy score across the five iterations:\n",
            "0.0787483897917252\n"
          ]
        }
      ],
      "source": [
        "# Find the mean accuracy score and save to variable 'acc_mean'\n",
        "acc_mean = np.mean(accuracy_scores)\n",
        "print('The mean accuracy score across the five iterations:')\n",
        "print(acc_mean)\n",
        "\n",
        "\n",
        "# Find the standard deviation of the accuracy score and save to variable 'acc_std'\n",
        "acc_std = np.std(accuracy_scores)\n",
        "\n",
        "# Print the standard deviation of the accuracy scores using the std() method to see the degree of variance.\n",
        "print('The standard deviation of the accuracy score across the five iterations:')\n",
        "print(acc_std)"
      ]
    },
    {
      "cell_type": "markdown",
      "metadata": {
        "id": "h9KnGt4e_Pnw"
      },
      "source": [
        "**Cross Validation (Again)**"
      ]
    },
    {
      "cell_type": "code",
      "execution_count": null,
      "metadata": {
        "colab": {
          "base_uri": "https://localhost:8080/"
        },
        "id": "XLklpn_LH8CH",
        "outputId": "8c1d1879-9047-4160-d7be-9548f42b2114"
      },
      "outputs": [
        {
          "output_type": "stream",
          "name": "stdout",
          "text": [
            "Cross-validation scores: [0.99378882 1.         1.         1.         1.        ]\n",
            "Mean CV accuracy: 0.9987577639751553\n"
          ]
        }
      ],
      "source": [
        "from sklearn.model_selection import cross_val_score\n",
        "from sklearn.neighbors import KNeighborsClassifier\n",
        "\n",
        "\n",
        "# Perform 5-fold cross-validation\n",
        "cv_scores = cross_val_score(model, X, y, cv=5, scoring='accuracy')\n",
        "\n",
        "print(\"Cross-validation scores:\", cv_scores)\n",
        "print(\"Mean CV accuracy:\", cv_scores.mean())"
      ]
    },
    {
      "cell_type": "markdown",
      "metadata": {
        "id": "vSC2GpJDJ1pr"
      },
      "source": [
        "**Overall Accuracy**"
      ]
    },
    {
      "cell_type": "code",
      "execution_count": null,
      "metadata": {
        "colab": {
          "base_uri": "https://localhost:8080/"
        },
        "id": "NQaXrVzntjqM",
        "outputId": "b092daff-03da-4f98-caff-d5387a27e8a3"
      },
      "outputs": [
        {
          "output_type": "stream",
          "name": "stdout",
          "text": [
            "Accuracy: 98.75%\n"
          ]
        }
      ],
      "source": [
        "accuracy = accuracy_score(y_test, y_pred)\n",
        "print(f\"Accuracy: {accuracy * 100:.2f}%\")"
      ]
    },
    {
      "cell_type": "markdown",
      "metadata": {
        "id": "UwtHDPg4-4H9"
      },
      "source": [
        "**Euclidean Distance**"
      ]
    },
    {
      "cell_type": "code",
      "execution_count": null,
      "metadata": {
        "colab": {
          "base_uri": "https://localhost:8080/"
        },
        "id": "Xnqw9EgSKx8I",
        "outputId": "eb26f1af-50d8-4b2c-dcf4-ffe1384d4a4a"
      },
      "outputs": [
        {
          "output_type": "stream",
          "name": "stdout",
          "text": [
            "Accuracy: 0.9875\n"
          ]
        }
      ],
      "source": [
        "def euclidean_distance(x1, x2):\n",
        "    \"\"\"\n",
        "    Compute the Euclidean distance between two data points (x1 and x2).\n",
        "    \"\"\"\n",
        "    return np.sqrt(np.sum((x1 - x2) ** 2))\n",
        "\n",
        "def predict_class(X_train, y_train, X_test_point, k=3):\n",
        "    \"\"\"\n",
        "    Predict the class of a test point based on Euclidean distance.\n",
        "    Arguments:\n",
        "    - X_train: Training feature data\n",
        "    - y_train: Training labels\n",
        "    - X_test_point: A single test data point (row of features)\n",
        "    - k: Number of neighbors to consider (default is 3)\n",
        "\n",
        "    Returns:\n",
        "    - Predicted class label for the test point\n",
        "    \"\"\"\n",
        "    distances = []\n",
        "\n",
        "    # Compute the distance from the test point to each training point\n",
        "    for i in range(len(X_train)):\n",
        "        dist = euclidean_distance(X_train[i], X_test_point)\n",
        "        distances.append((dist, y_train.iloc[i]))\n",
        "\n",
        "    # Sort the distances in ascending order\n",
        "    distances.sort(key=lambda x: x[0])\n",
        "\n",
        "    # Get the k nearest neighbors\n",
        "    nearest_neighbors = distances[:k]\n",
        "\n",
        "    # Count the classes of the nearest neighbors\n",
        "    class_counts = {}\n",
        "    for _, label in nearest_neighbors:\n",
        "        class_counts[label] = class_counts.get(label, 0) + 1\n",
        "\n",
        "    # Return the class with the highest count\n",
        "    predicted_class = max(class_counts, key=class_counts.get)\n",
        "    return predicted_class\n",
        "\n",
        "# Predict for each test point\n",
        "predictions = []\n",
        "for i in range(len(X_test)):\n",
        "    test_point = X_test[i]\n",
        "    predicted_class = predict_class(X_train, y_train, test_point, k=3)\n",
        "    predictions.append(predicted_class)\n",
        "\n",
        "# Compute accuracy\n",
        "accuracy = accuracy_score(y_test, predictions)\n",
        "print(f'Accuracy: {accuracy:.4f}')\n"
      ]
    },
    {
      "cell_type": "markdown",
      "metadata": {
        "id": "HBggrEUz-6t9"
      },
      "source": [
        "**Mean-Squared Error**"
      ]
    },
    {
      "cell_type": "code",
      "execution_count": null,
      "metadata": {
        "colab": {
          "base_uri": "https://localhost:8080/"
        },
        "id": "H1gwQYHkKY4t",
        "outputId": "7e03b690-3815-4865-84ac-97e6cc63ec63"
      },
      "outputs": [
        {
          "output_type": "stream",
          "name": "stdout",
          "text": [
            "0.0625\n"
          ]
        }
      ],
      "source": [
        "from sklearn.preprocessing import LabelEncoder\n",
        "from sklearn.metrics import mean_squared_error\n",
        "\n",
        "y_pred_proba = model.predict_proba(X_test)\n",
        "label_encoder = LabelEncoder()\n",
        "y_test_encoded = label_encoder.fit_transform(y_test)\n",
        "\n",
        "# Get predicted labels by selecting the class with highest probability\n",
        "y_pred_labels = y_pred_proba.argmax(axis=1)\n",
        "\n",
        "# Calculate MSE using predicted labels and true labels\n",
        "mse = mean_squared_error(y_test_encoded, y_pred_labels)\n",
        "print(mse)"
      ]
    },
    {
      "cell_type": "markdown",
      "metadata": {
        "id": "CLCEb-c1-9lc"
      },
      "source": [
        "**Top-K**"
      ]
    },
    {
      "cell_type": "code",
      "execution_count": null,
      "metadata": {
        "colab": {
          "base_uri": "https://localhost:8080/"
        },
        "id": "QZIVqeFstseX",
        "outputId": "56c2337b-998a-4bea-95ee-78205cec5241"
      },
      "outputs": [
        {
          "output_type": "stream",
          "name": "stdout",
          "text": [
            "Top-3 Accuracy: 99.38%\n"
          ]
        }
      ],
      "source": [
        "from sklearn.preprocessing import LabelEncoder\n",
        "\n",
        "top_k_indices = np.argsort(y_pred_proba, axis=1)[:, -2:]  # Use y_pred_proba for probabilities\n",
        "k = 3  # Define k for Top-k Accuracy\n",
        "top_k_accuracy = np.mean([y_test.iloc[i] in label_encoder.classes_[top_k_indices[i]] for i in range(len(y_test))])\n",
        "print(f\"Top-{k} Accuracy: {top_k_accuracy * 100:.2f}%\")"
      ]
    },
    {
      "cell_type": "markdown",
      "metadata": {
        "id": "r1F8P6g9_GJ_"
      },
      "source": [
        "**Precision, Recall, F1, Confusion Matrix**"
      ]
    },
    {
      "cell_type": "code",
      "execution_count": null,
      "metadata": {
        "colab": {
          "base_uri": "https://localhost:8080/"
        },
        "id": "CTMoKD_DKnBu",
        "outputId": "79560fbf-1854-468d-a34c-748461d4a3ba"
      },
      "outputs": [
        {
          "output_type": "stream",
          "name": "stdout",
          "text": [
            "Precision: 0.9879\n",
            "Recall: 0.9875\n",
            "F1 Score: 0.9874\n",
            "Accuracy: 0.9875\n",
            "Confusion Matrix:\n",
            "[[60  0  0  0  0]\n",
            " [ 1 15  0  0  0]\n",
            " [ 0  0 29  0  0]\n",
            " [ 1  0  0 27  0]\n",
            " [ 0  0  0  0 27]]\n"
          ]
        }
      ],
      "source": [
        "from sklearn.metrics import precision_score, recall_score, f1_score, confusion_matrix, accuracy_score\n",
        "\n",
        "# Assuming you have the following from your model:\n",
        "# y_test - true labels for test data\n",
        "# y_pred - predicted labels from your model\n",
        "\n",
        "# Calculate Precision, Recall, F1 Score for Multi-Class Classification\n",
        "precision = precision_score(y_test, y_pred, average='weighted')  # 'weighted' is common for multi-class\n",
        "recall = recall_score(y_test, y_pred, average='weighted')        # 'weighted' handles imbalanced classes\n",
        "f1 = f1_score(y_test, y_pred, average='weighted')                # 'weighted' is commonly used for multi-class\n",
        "\n",
        "# Calculate Accuracy\n",
        "accuracy = accuracy_score(y_test, y_pred)\n",
        "\n",
        "# Calculate Confusion Matrix\n",
        "conf_matrix = confusion_matrix(y_test, y_pred)\n",
        "\n",
        "# Print the results\n",
        "print(f\"Precision: {precision:.4f}\")\n",
        "print(f\"Recall: {recall:.4f}\")\n",
        "print(f\"F1 Score: {f1:.4f}\")\n",
        "print(f\"Accuracy: {accuracy:.4f}\")\n",
        "print(\"Confusion Matrix:\")\n",
        "print(conf_matrix)\n"
      ]
    },
    {
      "cell_type": "code",
      "execution_count": null,
      "metadata": {
        "id": "5XnDBnoDH7tF"
      },
      "outputs": [],
      "source": [
        "from sklearn.preprocessing import StandardScaler\n",
        "from sklearn.inspection import permutation_importance\n",
        "from sklearn.neighbors import KNeighborsRegressor\n",
        "\n",
        "\n",
        "scaler = StandardScaler()\n",
        "X_train_scaled = scaler.fit_transform(X_train)\n",
        "X_test_scaled = scaler.transform(X_test)\n",
        "\n",
        "# Train the KNN regressor\n",
        "knn = KNeighborsRegressor(n_neighbors=5)\n",
        "knn.fit(X_train_scaled, y_train)\n",
        "\n",
        "# Evaluate permutation importance\n",
        "result = permutation_importance(model, X_test_scaled, y_test, n_repeats=5, random_state=42)\n",
        "\n",
        "# Get the importance scores for each feature\n",
        "importance_scores = result.importances_mean\n",
        "\n",
        "# Create a DataFrame to visualize the importance of each feature\n",
        "import pandas as pd\n",
        "importance_df = pd.DataFrame({\n",
        "    'Feature': X.columns,\n",
        "    'Importance': importance_scores\n",
        "})\n",
        "\n",
        "# Sort by importance\n",
        "importance_df = importance_df.sort_values(by='Importance', ascending=False)\n",
        "\n",
        "# Show the top 5 important features\n",
        "print(importance_df.head(5))"
      ]
    },
    {
      "cell_type": "code",
      "execution_count": null,
      "metadata": {
        "id": "pcoihdAmH-Iu",
        "colab": {
          "base_uri": "https://localhost:8080/"
        },
        "outputId": "dbdd740b-ad83-4096-de26-5084b1c82d50"
      },
      "outputs": [
        {
          "output_type": "stream",
          "name": "stdout",
          "text": [
            "Example Input (First 5 Features): [-1.10607571e-05  4.51175838e-05  3.07848123e-05 -5.49098278e-06\n",
            " -3.38983904e-05]\n",
            "Ground Truth Label: PRAD\n",
            "Predicted Label: PRAD\n",
            "Accuracy: 98.75%\n"
          ]
        }
      ],
      "source": [
        "# Get a random index from the test set\n",
        "index = np.random.randint(0, len(X_test))\n",
        "\n",
        "# Get the input features for the selected index\n",
        "example_input = X_test[index]\n",
        "\n",
        "# Get the ground truth label for the selected index\n",
        "ground_truth = y_test.iloc[index]\n",
        "\n",
        "# Reshape the example_input for prediction\n",
        "example_input_reshaped = example_input.reshape(1, -1)  # Reshape to (1, num_features)\n",
        "\n",
        "# Get the model's prediction\n",
        "predicted_label = model.predict(example_input_reshaped)[0]\n",
        "\n",
        "# Print the results\n",
        "print(f\"Example Input (First 5 Features): {example_input[:5]}\")\n",
        "print(f\"Ground Truth Label: {ground_truth}\")\n",
        "print(f\"Predicted Label: {predicted_label}\")\n",
        "print(f\"Accuracy: {accuracy * 100:.2f}%\")\n"
      ]
    },
    {
      "cell_type": "code",
      "execution_count": null,
      "metadata": {
        "id": "pfA0TgK7TJcy"
      },
      "outputs": [],
      "source": []
    }
  ],
  "metadata": {
    "colab": {
      "provenance": []
    },
    "kernelspec": {
      "display_name": "Python 3",
      "name": "python3"
    },
    "language_info": {
      "name": "python"
    }
  },
  "nbformat": 4,
  "nbformat_minor": 0
}